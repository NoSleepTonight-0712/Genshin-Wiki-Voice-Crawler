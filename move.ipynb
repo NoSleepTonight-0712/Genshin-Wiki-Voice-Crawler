{
 "cells": [
  {
   "cell_type": "code",
   "execution_count": 16,
   "metadata": {},
   "outputs": [],
   "source": [
    "import requests\n",
    "import os\n",
    "import sqlite3\n",
    "from pathlib import Path\n",
    "import shutil\n"
   ]
  },
  {
   "cell_type": "code",
   "execution_count": 17,
   "metadata": {},
   "outputs": [],
   "source": [
    "file_names = os.listdir('voice')"
   ]
  },
  {
   "cell_type": "code",
   "execution_count": 18,
   "metadata": {},
   "outputs": [],
   "source": [
    "def getDestByFileName(fn, base_dir='voice'):\n",
    "    if 'Character_Voice' in fn:\n",
    "        character_name = fn.split('_')[2]\n",
    "\n",
    "        return os.path.join(base_dir, 'character_voice', character_name), os.path.join(base_dir, 'character_voice', character_name, fn)\n",
    "\n",
    "    quest_name = fn.split('__')[0]\n",
    "    return os.path.join(base_dir, quest_name), os.path.join(base_dir, quest_name, fn)\n"
   ]
  },
  {
   "cell_type": "code",
   "execution_count": 19,
   "metadata": {},
   "outputs": [],
   "source": [
    "for fn in file_names:\n",
    "    dest_dir, dest_name = getDestByFileName(fn)\n",
    "    if not Path(dest_dir).exists():\n",
    "        os.makedirs(dest_dir)\n",
    "\n",
    "    shutil.move(os.path.join('voice', fn), dest_name)"
   ]
  },
  {
   "cell_type": "code",
   "execution_count": null,
   "metadata": {},
   "outputs": [],
   "source": []
  },
  {
   "cell_type": "code",
   "execution_count": null,
   "metadata": {},
   "outputs": [],
   "source": []
  }
 ],
 "metadata": {
  "kernelspec": {
   "display_name": "base",
   "language": "python",
   "name": "python3"
  },
  "language_info": {
   "codemirror_mode": {
    "name": "ipython",
    "version": 3
   },
   "file_extension": ".py",
   "mimetype": "text/x-python",
   "name": "python",
   "nbconvert_exporter": "python",
   "pygments_lexer": "ipython3",
   "version": "3.9.12"
  },
  "orig_nbformat": 4
 },
 "nbformat": 4,
 "nbformat_minor": 2
}
